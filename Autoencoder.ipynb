{
 "cells": [
  {
   "cell_type": "code",
   "execution_count": 17,
   "id": "f1c445d2",
   "metadata": {},
   "outputs": [
    {
     "name": "stdout",
     "output_type": "stream",
     "text": [
      "The autoreload extension is already loaded. To reload it, use:\n",
      "  %reload_ext autoreload\n"
     ]
    }
   ],
   "source": [
    "%load_ext autoreload\n",
    "%autoreload 2\n",
    "import numpy as np\n",
    "import matplotlib.pyplot as plt\n",
    "import matplotlib.animation as animation\n",
    "import IPython.display as ipd\n",
    "from torch.utils.data import Dataset, DataLoader\n",
    "from mlp import *\n",
    "from layers import *\n",
    "from losses import *\n",
    "from digits import *"
   ]
  },
  {
   "cell_type": "markdown",
   "id": "eaca6d3b",
   "metadata": {},
   "source": [
    "### Data Loader"
   ]
  },
  {
   "cell_type": "code",
   "execution_count": 28,
   "id": "6e796cce",
   "metadata": {},
   "outputs": [],
   "source": [
    "class Digits(Dataset):\n",
    "    def __init__(self, X, Y):\n",
    "        # convert ys to one hot vectors\n",
    "        ys = []\n",
    "        for y in Y:\n",
    "            ys.append(np.zeros(10))\n",
    "            ys[-1][y] = 1\n",
    "        self.digits = []\n",
    "        for x, y in zip(X, ys):\n",
    "            self.digits.append((x, y))\n",
    "            \n",
    "    def __len__(self):\n",
    "        return len(self.digits)\n",
    "    \n",
    "    def __getitem__(self, i):\n",
    "        return self.digits[i]\n",
    "    \n",
    "X, Y = get_digits(\"Digits\")\n",
    "training = Digits(X, Y)\n",
    "\n",
    "class Digits(Dataset):\n",
    "    def __init__(self, x, y):\n",
    "        ys = []\n",
    "        for y in Y"
   ]
  },
  {
   "cell_type": "markdown",
   "id": "16468a02",
   "metadata": {},
   "source": [
    "### Architecture"
   ]
  },
  {
   "cell_type": "code",
   "execution_count": 27,
   "id": "e178f6e8",
   "metadata": {},
   "outputs": [],
   "source": [
    "encoder = MLP(784, squared_loss_deriv)\n",
    "encoder.add_layer(512, leaky_relu, leaky_relu_deriv)\n",
    "encoder.add_layer(256, leaky_relu, leaky_relu_deriv)\n",
    "encoder.add_layer(128, leaky_relu, leaky_relu_deriv)\n",
    "encoder.add_layer(2, logistic, logistic_deriv, \"latent\")\n",
    "encoder.add_layer(128, leaky_relu, leaky_relu_deriv, \"up128\")\n",
    "encoder.add_layer(256, leaky_relu, leaky_relu_deriv)\n",
    "encoder.add_layer(512, leaky_relu, leaky_relu_deriv)\n",
    "encoder.add_layer(784, logistic, logistic_deriv)"
   ]
  },
  {
   "cell_type": "markdown",
   "id": "34f90237",
   "metadata": {},
   "source": [
    "### Training"
   ]
  },
  {
   "cell_type": "code",
   "execution_count": 77,
   "id": "cc1b8dcc",
   "metadata": {},
   "outputs": [
    {
     "name": "stdout",
     "output_type": "stream",
     "text": [
      "epoch: 0, loss: 309.80163024861724\n",
      "epoch: 1, loss: 300.52519738421313\n",
      "epoch: 2, loss: 302.9244593418501\n",
      "epoch: 3, loss: 312.66256255964373\n",
      "epoch: 4, loss: 300.9536472944524\n"
     ]
    }
   ],
   "source": [
    "n_epochs = 5\n",
    "alpha = 1e4\n",
    "losses = []\n",
    "\n",
    "for epoch in range(n_epochs):\n",
    "    loss = 0\n",
    "    loader = DataLoader(training, batch_size=16, shuffle=True)\n",
    "    for batch in loader:\n",
    "        for i in range(16):\n",
    "            x = batch[0][i]\n",
    "            x = np.array(x)\n",
    "            x_est = encoder.forward(x)\n",
    "            loss = squared_loss(x_est, x)\n",
    "            encoder.backward(x, x_est)\n",
    "            encoder.step(alpha)\n",
    "    losses.append(loss)\n",
    "    print(\"epoch: {}, loss: {}\".format(epoch, loss))\n",
    "    alpha /= 2"
   ]
  }
 ],
 "metadata": {
  "kernelspec": {
   "display_name": "Python 3 (ipykernel)",
   "language": "python",
   "name": "python3"
  },
  "language_info": {
   "codemirror_mode": {
    "name": "ipython",
    "version": 3
   },
   "file_extension": ".py",
   "mimetype": "text/x-python",
   "name": "python",
   "nbconvert_exporter": "python",
   "pygments_lexer": "ipython3",
   "version": "3.11.4"
  }
 },
 "nbformat": 4,
 "nbformat_minor": 5
}
