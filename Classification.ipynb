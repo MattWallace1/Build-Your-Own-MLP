{
 "cells": [
  {
   "cell_type": "code",
   "execution_count": 6,
   "id": "719fc17c",
   "metadata": {},
   "outputs": [
    {
     "name": "stdout",
     "output_type": "stream",
     "text": [
      "The autoreload extension is already loaded. To reload it, use:\n",
      "  %reload_ext autoreload\n"
     ]
    }
   ],
   "source": [
    "%load_ext autoreload\n",
    "%autoreload 2\n",
    "import numpy as np\n",
    "import matplotlib.pyplot as plt\n",
    "import matplotlib.animation as animation\n",
    "import IPython.display as ipd\n",
    "from mlp import *\n",
    "from layers import *\n",
    "from losses import *\n",
    "from digits import *"
   ]
  },
  {
   "cell_type": "code",
   "execution_count": 7,
   "id": "9ca25d27",
   "metadata": {
    "scrolled": true
   },
   "outputs": [
    {
     "name": "stdout",
     "output_type": "stream",
     "text": [
      "Epoch 0 Loss 190154.877981572 Accuracy 0.14146666666666666\n",
      "Epoch 1 Loss nan Accuracy 0.09871666666666666\n"
     ]
    },
    {
     "ename": "KeyboardInterrupt",
     "evalue": "",
     "output_type": "error",
     "traceback": [
      "\u001b[1;31m---------------------------------------------------------------------------\u001b[0m",
      "\u001b[1;31mKeyboardInterrupt\u001b[0m                         Traceback (most recent call last)",
      "Cell \u001b[1;32mIn[7], line 21\u001b[0m\n\u001b[0;32m     19\u001b[0m num_correct \u001b[38;5;241m=\u001b[39m \u001b[38;5;241m0\u001b[39m\n\u001b[0;32m     20\u001b[0m \u001b[38;5;28;01mfor\u001b[39;00m k \u001b[38;5;129;01min\u001b[39;00m \u001b[38;5;28mrange\u001b[39m(X\u001b[38;5;241m.\u001b[39mshape[\u001b[38;5;241m0\u001b[39m]):\n\u001b[1;32m---> 21\u001b[0m     y_est \u001b[38;5;241m=\u001b[39m \u001b[43mnn1\u001b[49m\u001b[38;5;241;43m.\u001b[39;49m\u001b[43mforward\u001b[49m\u001b[43m(\u001b[49m\u001b[43mX\u001b[49m\u001b[43m[\u001b[49m\u001b[43mk\u001b[49m\u001b[43m,\u001b[49m\u001b[43m \u001b[49m\u001b[43m:\u001b[49m\u001b[43m]\u001b[49m\u001b[43m)\u001b[49m\n\u001b[0;32m     22\u001b[0m     num_correct \u001b[38;5;241m+\u001b[39m\u001b[38;5;241m=\u001b[39m (np\u001b[38;5;241m.\u001b[39margmax(ys[k]) \u001b[38;5;241m==\u001b[39m np\u001b[38;5;241m.\u001b[39margmax(y_est))\n\u001b[0;32m     23\u001b[0m     loss \u001b[38;5;241m+\u001b[39m\u001b[38;5;241m=\u001b[39m softmax_est_crossentropy_loss(y_est, ys[k])\n",
      "File \u001b[1;32m~\\OneDrive\\Documents\\School\\Fall2023\\AI\\HW6_BYOMLP-main\\mlp.py:87\u001b[0m, in \u001b[0;36mMLP.forward\u001b[1;34m(self, x, start, end)\u001b[0m\n\u001b[0;32m     85\u001b[0m \u001b[38;5;28;01mfor\u001b[39;00m [W, b, f, fderiv, name, W_derivs, b_derivs] \u001b[38;5;129;01min\u001b[39;00m \u001b[38;5;28mself\u001b[39m\u001b[38;5;241m.\u001b[39mlayers[start_idx:end_idx\u001b[38;5;241m+\u001b[39m\u001b[38;5;241m1\u001b[39m]:\n\u001b[0;32m     86\u001b[0m     hk1 \u001b[38;5;241m=\u001b[39m \u001b[38;5;28mself\u001b[39m\u001b[38;5;241m.\u001b[39mHs[\u001b[38;5;241m-\u001b[39m\u001b[38;5;241m1\u001b[39m]\n\u001b[1;32m---> 87\u001b[0m     a \u001b[38;5;241m=\u001b[39m W\u001b[38;5;241m.\u001b[39mdot(hk1) \u001b[38;5;241m+\u001b[39m b\n\u001b[0;32m     88\u001b[0m     \u001b[38;5;28mself\u001b[39m\u001b[38;5;241m.\u001b[39mAs\u001b[38;5;241m.\u001b[39mappend(a)\n\u001b[0;32m     89\u001b[0m     h \u001b[38;5;241m=\u001b[39m f(a)\n",
      "\u001b[1;31mKeyboardInterrupt\u001b[0m: "
     ]
    }
   ],
   "source": [
    "X, Y = get_digits(\"Digits\")\n",
    "XTest, YTest = get_digits(\"DigitsTest\")\n",
    "# convert Y's to be a list of one hot vectors\n",
    "ys = []\n",
    "for y in Y:\n",
    "    ys.append(np.zeros(10))\n",
    "    ys[-1][y] = 1\n",
    "\n",
    "nn1 = MLP(X.shape[1], softmax_est_crossentropy_deriv)\n",
    "nn1.add_layer(20, leaky_relu, leaky_relu_deriv)\n",
    "nn1.add_layer(10, softmax, None)\n",
    "\n",
    "n_epochs = 100\n",
    "alpha = 1e4\n",
    "losses = []\n",
    "\n",
    "for epoch in range(n_epochs):\n",
    "    loss = 0\n",
    "    num_correct = 0\n",
    "    for k in range(X.shape[0]):\n",
    "        y_est = nn1.forward(X[k, :])\n",
    "        num_correct += (np.argmax(ys[k]) == np.argmax(y_est))\n",
    "        loss += softmax_est_crossentropy_loss(y_est, ys[k])\n",
    "    losses.append(loss)\n",
    "    \n",
    "    print(\"Epoch {} Loss {} Accuracy {}\".format(epoch, loss, num_correct/X.shape[0]))\n",
    "    # stochastic gradient descent\n",
    "    for k in np.random.permutation(X.shape[0]):\n",
    "        nn1.backward(X[k, :], ys[k])\n",
    "        nn1.step(alpha)\n",
    "        nn1.zero_grad()"
   ]
  },
  {
   "cell_type": "code",
   "execution_count": 21,
   "id": "5e039aa6",
   "metadata": {},
   "outputs": [
    {
     "name": "stdout",
     "output_type": "stream",
     "text": [
      "Epoch 0 Loss 226612.9086772067 Accuracy 0.09871666666666666\n",
      "Epoch 1 Loss nan Accuracy 0.09871666666666666\n"
     ]
    },
    {
     "ename": "KeyboardInterrupt",
     "evalue": "",
     "output_type": "error",
     "traceback": [
      "\u001b[1;31m---------------------------------------------------------------------------\u001b[0m",
      "\u001b[1;31mKeyboardInterrupt\u001b[0m                         Traceback (most recent call last)",
      "Cell \u001b[1;32mIn[21], line 32\u001b[0m\n\u001b[0;32m     30\u001b[0m \u001b[38;5;66;03m# stochastic gradient descent\u001b[39;00m\n\u001b[0;32m     31\u001b[0m \u001b[38;5;28;01mfor\u001b[39;00m k \u001b[38;5;129;01min\u001b[39;00m np\u001b[38;5;241m.\u001b[39mrandom\u001b[38;5;241m.\u001b[39mpermutation(X\u001b[38;5;241m.\u001b[39mshape[\u001b[38;5;241m0\u001b[39m]):\n\u001b[1;32m---> 32\u001b[0m     \u001b[43mnn2\u001b[49m\u001b[38;5;241;43m.\u001b[39;49m\u001b[43mbackward\u001b[49m\u001b[43m(\u001b[49m\u001b[43mX\u001b[49m\u001b[43m[\u001b[49m\u001b[43mk\u001b[49m\u001b[43m,\u001b[49m\u001b[43m \u001b[49m\u001b[43m:\u001b[49m\u001b[43m]\u001b[49m\u001b[43m,\u001b[49m\u001b[43m \u001b[49m\u001b[43mys\u001b[49m\u001b[43m[\u001b[49m\u001b[43mk\u001b[49m\u001b[43m]\u001b[49m\u001b[43m)\u001b[49m\n\u001b[0;32m     33\u001b[0m     nn2\u001b[38;5;241m.\u001b[39mstep(alpha)\n\u001b[0;32m     34\u001b[0m     nn2\u001b[38;5;241m.\u001b[39mzero_grad()\n",
      "File \u001b[1;32m~\\OneDrive\\Documents\\School\\Fall2023\\AI\\HW6_BYOMLP-main\\mlp.py:126\u001b[0m, in \u001b[0;36mMLP.backward\u001b[1;34m(self, x, y)\u001b[0m\n\u001b[0;32m    124\u001b[0m \u001b[38;5;28mself\u001b[39m\u001b[38;5;241m.\u001b[39mlayers[k][\u001b[38;5;241m5\u001b[39m] \u001b[38;5;241m+\u001b[39m\u001b[38;5;241m=\u001b[39m g[:, \u001b[38;5;28;01mNone\u001b[39;00m]\u001b[38;5;241m*\u001b[39m\u001b[38;5;28mself\u001b[39m\u001b[38;5;241m.\u001b[39mHs[k][\u001b[38;5;28;01mNone\u001b[39;00m, :]\n\u001b[0;32m    125\u001b[0m \u001b[38;5;66;03m# propagate gradient backwards through linear layer\u001b[39;00m\n\u001b[1;32m--> 126\u001b[0m g \u001b[38;5;241m=\u001b[39m \u001b[38;5;28mself\u001b[39m\u001b[38;5;241m.\u001b[39mlayers[k][\u001b[38;5;241m0\u001b[39m]\u001b[38;5;241m.\u001b[39mT\u001b[38;5;241m.\u001b[39mdot(g)\n",
      "\u001b[1;31mKeyboardInterrupt\u001b[0m: "
     ]
    }
   ],
   "source": [
    "# model 2\n",
    "X, Y = get_digits(\"Digits\")\n",
    "XTest, YTest = get_digits(\"DigitsTest\")\n",
    "# convert Y's to be a list of one hot vectors\n",
    "ys = []\n",
    "for y in Y:\n",
    "    ys.append(np.zeros(10))\n",
    "    ys[-1][y] = 1\n",
    "\n",
    "nn = MLP(X.shape[1], softmax_est_crossentropy_deriv)\n",
    "nn.add_layer(40, leaky_relu, leaky_relu_deriv)\n",
    "nn.add_layer(20, leaky_relu, leaky_relu_deriv)\n",
    "nn.add_layer(10, softmax, None)\n",
    "\n",
    "n_epochs = 100\n",
    "alpha = 1e4\n",
    "losses = []\n",
    "\n",
    "\n",
    "for epoch in range(n_epochs):\n",
    "    loss = 0\n",
    "    num_correct = 0\n",
    "    for k in range(X.shape[0]):\n",
    "        y_est = nn1.forward(X[k, :])\n",
    "        num_correct += (np.argmax(ys[k]) == np.argmax(y_est))\n",
    "        loss += softmax_est_crossentropy_loss(y_est, ys[k])\n",
    "    losses.append(loss)\n",
    "    \n",
    "    print(\"Epoch {} Loss {} Accuracy {}\".format(epoch, loss, num_correct[0]/X.shape[0]))\n",
    "    # stochastic gradient descent\n",
    "    for k in np.random.permutation(X.shape[0]):\n",
    "        nn1.backward(X[k, :], ys[k])\n",
    "        nn1.step(alpha)\n",
    "        nn1.zero_grad()"
   ]
  },
  {
   "cell_type": "code",
   "execution_count": 18,
   "id": "b5797546",
   "metadata": {},
   "outputs": [
    {
     "name": "stdout",
     "output_type": "stream",
     "text": [
      "0.0987\n"
     ]
    }
   ],
   "source": [
    "# model 1 testing\n",
    "ys_test = []\n",
    "for y in YTest:\n",
    "    ys_test.append(np.zeros(10))\n",
    "    ys_test[-1][y] = 1\n",
    "num_correct = 0\n",
    "for k in range(XTest.shape[0]):\n",
    "    y_est = nn1.forward(X[k, :])\n",
    "    num_correct += (np.argmax(y_est) == np.argmax(ys_test[k]))\n",
    "print(num_correct/XTest.shape[0])"
   ]
  }
 ],
 "metadata": {
  "kernelspec": {
   "display_name": "Python 3 (ipykernel)",
   "language": "python",
   "name": "python3"
  },
  "language_info": {
   "codemirror_mode": {
    "name": "ipython",
    "version": 3
   },
   "file_extension": ".py",
   "mimetype": "text/x-python",
   "name": "python",
   "nbconvert_exporter": "python",
   "pygments_lexer": "ipython3",
   "version": "3.11.4"
  }
 },
 "nbformat": 4,
 "nbformat_minor": 5
}
